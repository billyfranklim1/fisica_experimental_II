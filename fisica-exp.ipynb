{
 "cells": [
  {
   "cell_type": "code",
   "execution_count": 20,
   "metadata": {
    "colab": {},
    "colab_type": "code",
    "id": "mOWTv5Aj1Cgw"
   },
   "outputs": [],
   "source": [
    "import pandas as pd\n",
    "import numpy as np\n",
    "import math\n",
    "from LabIFSC import *\n",
    "\n",
    "def media(x):\n",
    "    return sum(x) / len(x)\n",
    "\n",
    "def desvio_padrao(x, amostral=False):\n",
    "    _media = media(x)\n",
    "    tam = len(x)\n",
    "    if amostral:\n",
    "        tam = tam - 1\n",
    "    soma = 0\n",
    "    for i in x:\n",
    "        soma = soma + (i - _media) ** 2\n",
    "    return (soma / (tam))**0.5\n",
    "\n",
    "\n",
    "\n",
    "def converterGrausParaRad(numero):\n",
    "    rad = (numero/180)*math.pi\n",
    "    return rad\n",
    "    #abaixo: defini\n",
    "def coseno(rad):\n",
    "    numero = converterGrausParaRad(rad)\n",
    "    cont = 0\n",
    "    resultado = 1 # ERRO!!!\n",
    "    while(cont < 50):\n",
    "        cont += 1\n",
    "        resultado += (((-1)**cont)*(numero**(2 * cont)))/(math.factorial(2 * cont))\n",
    "\n",
    "    return round(resultado, 6) # MELHORIA\n",
    "\n",
    "def seno(numero):\n",
    "    resultado = 0\n",
    "    resultado = math.sqrt(1 - (coseno(numero))**2)\n",
    "    return resultado\n",
    "#"
   ]
  },
  {
   "cell_type": "code",
   "execution_count": 19,
   "metadata": {},
   "outputs": [
    {
     "name": "stdout",
     "output_type": "stream",
     "text": [
      "Collecting LabIFSC\n",
      "  Downloading https://files.pythonhosted.org/packages/1f/ac/f34b906122432f63a7027cb24297ef714937437260a3ab355d21dd10568f/LabIFSC-0.1.13-py3-none-any.whl\n",
      "Installing collected packages: LabIFSC\n",
      "Successfully installed LabIFSC-0.1.13\n",
      "Note: you may need to restart the kernel to use updated packages.\n"
     ]
    }
   ],
   "source": [
    "pip install LabIFSC"
   ]
  },
  {
   "cell_type": "code",
   "execution_count": 8,
   "metadata": {
    "colab": {},
    "colab_type": "code",
    "id": "lvBblks01u0u"
   },
   "outputs": [],
   "source": [
    "mediaR1 = pd.Series([50.15,50.20,50.15,50.20]).mean()\n",
    "mediaR2 = pd.Series([50.15,50.15,50.20,50.15]).mean()\n",
    "mediaR3 = pd.Series([50.10,50.20,50.20,50.15]).mean()\n",
    "mediaR4 = pd.Series([50.20,50.25,50.15,50.20]).mean()\n",
    "mediaR4 = pd.Series([50.20,50.20,50.15,50.15]).mean()\n",
    "\n",
    "#medida_R =  pd.Series([medidaR1,medidaR2,medidaR3,medidaR4,medidaR4])\n",
    "media_medida_R = pd.Series([mediaR1,mediaR2,mediaR3,mediaR4]).mean()  \n",
    "\n",
    "\n",
    "mediaL1 = pd.Series([120.40,120.85,120.90,120.10]).mean()\n",
    "mediaL2 = pd.Series([120.10,120.45,120.25,120.20]).mean()\n",
    "mediaL3 = pd.Series([120.15,120.15,120.20,120.15]).mean()\n",
    "mediaL4 = pd.Series([120.25,120.20,120.25,120.20]).mean()\n",
    "mediaL4 = pd.Series([120.30,120.25,120.40,120.15]).mean()\n",
    "\n",
    "media_medida_L = pd.Series([mediaL1,mediaL2,mediaL3,mediaL4]).mean()  \n",
    "\n",
    "\n",
    "# medida_L =  pd.Series([medidaL1,medidaL2,medidaL3,medidaL4,medidaL4])\n",
    "# media_medida_L = medida_L.mean()    \n",
    "\n",
    "\n",
    "dif_media_angulo_12 = [1.2, 2.0, 1.2, 1.5, 2.0, 1.2, 1.0, 1.5, 2.0, 1.5, 2.0, 2.0, 1.2, 1.2, 2.0, 1.5, 1.8, 1.5, 1.8, 1.5]\n",
    "dif_media_angulo_30 = [4.5, 4.0, 4.5, 4.0, 4.5, 4.5, 5.0, 4.5, 4.5, 4.0, 5.0, 4.5, 5.0, 4.8, 4.5, 5.0, 4.8, 5.0, 4.5, 4.8]\n",
    "dif_media_angulo_42 = [8.5, 7.0, 8.5, 7.0, 8.8, 7.0, 7.0, 8.0, 7.2, 7.0, 7.0, 7.0, 7.2, 8.0, 7.3, 7.0, 7.2, 7.0, 7.3, 7.0]\n",
    "dif_media_angulo_60 = [11.5, 12.0, 12.0, 12.0, 12.0, 12.0, 11.5, 12.0, 11.4, 11.5, 11.5, 12.0, 11.5, 12.0, 11.4, 12.0, 11.5, 12.0, 11.8, 11.5]\n",
    "\n",
    "\n"
   ]
  },
  {
   "cell_type": "code",
   "execution_count": 4,
   "metadata": {
    "colab": {},
    "colab_type": "code",
    "id": "oXP3fSGBaIQ2"
   },
   "outputs": [],
   "source": [
    "# medidasR = [medidaR1,medidaR2,medidaR3,medidaR4,medidaR4]\n",
    "# medidasL = [medidasL1, medidasL2, medidasL3, medidasL4, medidasL4]"
   ]
  },
  {
   "cell_type": "code",
   "execution_count": 5,
   "metadata": {
    "colab": {},
    "colab_type": "code",
    "id": "zKiRSQFxZyk_"
   },
   "outputs": [],
   "source": [
    "from math import *\n",
    "# from visual.graph import *\n",
    "\n",
    "N1 = 1 # indice de refração do vácuo\n",
    "N2 = 1.33 # indice de refração do água\n",
    "N3 = 1.46 # \" \" quartzo fundido\n",
    "N4 = 1.54 # \" \" cloreto de sódio\n",
    "N5 = 1.63 # \" \" disulfeto de carbono\n",
    "N6 = 1.77 # \" da safira\n",
    "N7 = 1.89 # \" do vidro de altíssima dispersão\n",
    "N8 = 2.42 #\" \" diamante\n",
    "\n",
    "# lei de snell - N1*sin(teta.i) = N2*sin(teta.r)\n",
    "\n",
    "angulo = 15 # incidencia inicial\n",
    "teta1 = angulo*(pi/180) # angulo de incidencia com relação a normal\n",
    "teta2 = asin(N1*sin(teta1)/N2) # angulo de refração no meio2\n",
    "teta3 = asin(N2*sin(teta2)/N3)\n",
    "teta4 = asin(N3*sin(teta3)/N4)\n",
    "teta5 = asin(N4*sin(teta4)/N5)\n",
    "teta6 = asin(N5*sin(teta5)/N6)\n",
    "teta7 = asin(N6*sin(teta6)/N7)\n",
    "teta8 = asin(N7*sin(teta7)/N8)"
   ]
  },
  {
   "cell_type": "code",
   "execution_count": 6,
   "metadata": {
    "colab": {},
    "colab_type": "code",
    "id": "OaFTI6C7MJ0Q"
   },
   "outputs": [
    {
     "ename": "NameError",
     "evalue": "name 'medidasR' is not defined",
     "output_type": "error",
     "traceback": [
      "\u001b[0;31m---------------------------------------------------------------------------\u001b[0m",
      "\u001b[0;31mNameError\u001b[0m                                 Traceback (most recent call last)",
      "\u001b[0;32m<ipython-input-6-69d2d1610b8c>\u001b[0m in \u001b[0;36m<module>\u001b[0;34m\u001b[0m\n\u001b[1;32m      4\u001b[0m \u001b[0mop_R\u001b[0m \u001b[0;34m=\u001b[0m \u001b[0;34m[\u001b[0m\u001b[0;34m]\u001b[0m\u001b[0;34m\u001b[0m\u001b[0;34m\u001b[0m\u001b[0m\n\u001b[1;32m      5\u001b[0m \u001b[0;34m\u001b[0m\u001b[0m\n\u001b[0;32m----> 6\u001b[0;31m \u001b[0;32mfor\u001b[0m \u001b[0mi\u001b[0m \u001b[0;32min\u001b[0m \u001b[0mmedidasR\u001b[0m\u001b[0;34m:\u001b[0m\u001b[0;34m\u001b[0m\u001b[0;34m\u001b[0m\u001b[0m\n\u001b[0m\u001b[1;32m      7\u001b[0m     \u001b[0mdb\u001b[0m \u001b[0;34m=\u001b[0m  \u001b[0mpd\u001b[0m\u001b[0;34m.\u001b[0m\u001b[0mSeries\u001b[0m\u001b[0;34m(\u001b[0m\u001b[0mi\u001b[0m\u001b[0;34m)\u001b[0m\u001b[0;34m\u001b[0m\u001b[0;34m\u001b[0m\u001b[0m\n\u001b[1;32m      8\u001b[0m     \u001b[0mmedias_R\u001b[0m\u001b[0;34m.\u001b[0m\u001b[0mappend\u001b[0m\u001b[0;34m(\u001b[0m\u001b[0mdb\u001b[0m\u001b[0;34m.\u001b[0m\u001b[0mmean\u001b[0m\u001b[0;34m(\u001b[0m\u001b[0;34m)\u001b[0m\u001b[0;34m)\u001b[0m\u001b[0;34m\u001b[0m\u001b[0;34m\u001b[0m\u001b[0m\n",
      "\u001b[0;31mNameError\u001b[0m: name 'medidasR' is not defined"
     ]
    }
   ],
   "source": [
    "medias_R = []\n",
    "desvios_R = []\n",
    "erro_medio_R = []\n",
    "op_R = []\n",
    "\n",
    "for i in medidasR:\n",
    "    db =  pd.Series(i)\n",
    "    medias_R.append(db.mean())\n",
    "    desvios_R.append(db.std())\n",
    "    erro_medio_R.append((db.std()/(len(db)**0.5)))\n",
    "    oc = db.std() / (len(db))**2\n",
    "    os = 0.5\n",
    "    op = ((oc)**2 + (os)**2)**0.5\n",
    "    op_R.append(op)\n",
    "\n",
    "# print(op_R)\n",
    "\n",
    "medias_L = []\n",
    "desvios_L = []\n",
    "erro_medio_L = []\n",
    "op_L = []\n",
    "\n",
    "for i in medidasL:\n",
    "    db =  pd.Series(i)\n",
    "    medias_L.append(db.mean())\n",
    "    desvios_L.append(db.std())\n",
    "    erro_medio_L.append((db.std()/(len(db)**0.5)))\n",
    "    oc = db.std() / (len(db))**2\n",
    "    os = 0.5\n",
    "    op = ((oc)**2 + (os)**2)**0.5\n",
    "    op_L.append(op)\n",
    "#     print(os)\n",
    "# print(op_L)"
   ]
  },
  {
   "cell_type": "code",
   "execution_count": null,
   "metadata": {
    "colab": {
     "base_uri": "https://localhost:8080/",
     "height": 34
    },
    "colab_type": "code",
    "executionInfo": {
     "elapsed": 708,
     "status": "ok",
     "timestamp": 1569383671586,
     "user": {
      "displayName": "Billyfranklim Pereira",
      "photoUrl": "https://lh3.googleusercontent.com/a-/AAuE7mAB2PBHDfXX9k9R9k5fRjc4j8UTXi0KHDPqcoaBAcQ=s64",
      "userId": "18281492114920847785"
     },
     "user_tz": 180
    },
    "id": "xJo_IK66aK7z",
    "outputId": "77e34c69-5c0f-4bbf-c8b3-d5a80b86ea99"
   },
   "outputs": [],
   "source": [
    "dif_media_12 =  pd.Series(dif_media_angulo_12).mean()\n",
    "dif_media_30 =  pd.Series(dif_media_angulo_30).mean()\n",
    "dif_media_42 =  pd.Series(dif_media_angulo_42).mean()\n",
    "dif_media_60 =  pd.Series(dif_media_angulo_60).mean()\n",
    "\n",
    "angulos = [dif_media_12,dif_media_30,dif_media_42,dif_media_60]\n",
    "# acrilico 1,49\n",
    "# media(media_angulo_12)\n",
    "# lei_snell\n",
    "angulos"
   ]
  },
  {
   "cell_type": "code",
   "execution_count": null,
   "metadata": {
    "colab": {
     "base_uri": "https://localhost:8080/",
     "height": 34
    },
    "colab_type": "code",
    "executionInfo": {
     "elapsed": 825,
     "status": "ok",
     "timestamp": 1569385486751,
     "user": {
      "displayName": "Billyfranklim Pereira",
      "photoUrl": "https://lh3.googleusercontent.com/a-/AAuE7mAB2PBHDfXX9k9R9k5fRjc4j8UTXi0KHDPqcoaBAcQ=s64",
      "userId": "18281492114920847785"
     },
     "user_tz": 180
    },
    "id": "U4Rtb-qsktiO",
    "outputId": "c951c633-1824-4a58-8494-39a494b9118a"
   },
   "outputs": [],
   "source": [
    "# lei_snell = np.sin(60)/np.sin(30)\n",
    "# lei_snell = seno(60)/seno(60 - dif_media_60)\n",
    "lei_snell_12 = seno(12)/seno(12 - dif_media_12)\n",
    "lei_snell_30 = seno(30)/seno(30 - dif_media_30)\n",
    "lei_snell_42 = seno(42)/seno(42 - dif_media_42)\n",
    "lei_snell_60 = seno(60)/seno(60 - dif_media_60)\n",
    "\n",
    "\n",
    "# 60 - dif_media_60\n",
    "# 1,49\n",
    "# lei_snell \n",
    "# seno(30) F "
   ]
  },
  {
   "cell_type": "code",
   "execution_count": null,
   "metadata": {},
   "outputs": [],
   "source": [
    "deslocamento_lateral_12 = media_medida_L * (seno(12 - (12 - dif_media_12) )/coseno( (12 - dif_media_12)))\n",
    "deslocamento_lateral_30 = media_medida_L * (seno(30 - (30 - dif_media_30) )/coseno( (30 - dif_media_30)))\n",
    "deslocamento_lateral_42 = media_medida_L * (seno(42 - (42 - dif_media_42) )/coseno( (42 - dif_media_42)))\n",
    "deslocamento_lateral_60 = media_medida_L * (seno(60 - (60 - dif_media_60) )/coseno( (60 - dif_media_60)))\n",
    "\n",
    "# deslocamento_lateral_12"
   ]
  },
  {
   "cell_type": "code",
   "execution_count": 17,
   "metadata": {},
   "outputs": [
    {
     "data": {
      "text/plain": [
       "0     1.156310\n",
       "1     1.165353\n",
       "2     1.165353\n",
       "3     1.165353\n",
       "4     1.165353\n",
       "5     1.165353\n",
       "6     1.156310\n",
       "7     1.165353\n",
       "8     1.154530\n",
       "9     1.156310\n",
       "10    1.156310\n",
       "11    1.165353\n",
       "12    1.156310\n",
       "13    1.165353\n",
       "14    1.154530\n",
       "15    1.165353\n",
       "16    1.156310\n",
       "17    1.165353\n",
       "18    1.161707\n",
       "19    1.156310\n",
       "dtype: float64"
      ]
     },
     "execution_count": 17,
     "metadata": {},
     "output_type": "execute_result"
    }
   ],
   "source": [
    "indice_n_12  = []\n",
    "for i in dif_media_angulo_12:\n",
    "    indice_n_12.append(seno(12)/seno(12 - i))\n",
    "\n",
    "indice_n_30  = []\n",
    "for i in dif_media_angulo_12:\n",
    "    indice_n_30.append(seno(30)/seno(30 - i))\n",
    "    \n",
    "indice_n_42  = []\n",
    "for i in dif_media_angulo_42:\n",
    "    indice_n_42.append(seno(42)/seno(42 - i))\n",
    "    \n",
    "indice_n_60  = []\n",
    "for i in dif_media_angulo_60:\n",
    "    indice_n_60 .append(seno(60)/seno(60 - i))\n",
    "\n",
    "\n",
    "\n",
    "# pd.Series(indice_n_60)"
   ]
  },
  {
   "cell_type": "code",
   "execution_count": 49,
   "metadata": {},
   "outputs": [],
   "source": [
    "#!/usr/bin/python3\n",
    "\n",
    "from math import floor, log10\n",
    "import re\n",
    "\n",
    "def siground(n, er=0):\n",
    "\tif not n: return 0.0\n",
    "\tif not er: er = n\n",
    "\treturn round(n,-floor(log10(er)))\n",
    "\n",
    "sr = siground\n",
    "    \n",
    "class ufl:\n",
    "\n",
    "    def __init__(self, n, u=0):\n",
    "        if isinstance(n, str):\n",
    "            self.n, self.u = (float(i.replace(',','.')) for i in re.findall(r'[\\d.,]+', n))\n",
    "        \n",
    "        elif not isinstance(n, ufl):\n",
    "            self.n, self.u = n, u\n",
    "            \n",
    "        else: self.n, self.u = n.n, n.u\n",
    "\n",
    "    def __repr__(self):\n",
    "        return '{} ± {:g}'.format(sr(self.n, sr(self.u)), sr(self.u))\n",
    "\n",
    "    def __add__(self, other):\n",
    "        other = ufl(other)\n",
    "        return(ufl(self.n + other.n, self.u + other.u))\n",
    "\n",
    "    __radd__ = __add__\n",
    "                \n",
    "    def __sub__(self, other):\n",
    "        other = ufl(other)\n",
    "        return ufl(self.n - other.n, self.u + other.u)\n",
    "\n",
    "    def __rsub__(self, other):\n",
    "        other = ufl(other)\n",
    "        return other-self\n",
    "\n",
    "    def __neg__(self):\n",
    "        return ufl(-self.n, self.u)\n",
    "        \n",
    "    def __mul__(self, other):\n",
    "        other = ufl(other)\n",
    "        return ufl(self.n*other.n,(self.u*other.n)+(self.n*other.u))\n",
    "\n",
    "    __rmul__ = __mul__\n",
    "                \n",
    "    def __truediv__(self, other):\n",
    "        other = ufl(other)\n",
    "        return ufl((self.n/other.n),((self.u*other.n)+(self.n*other.u))/(other.n**2))\n",
    "\n",
    "    def __rtruediv__(self, other):\n",
    "        other = ufl(other)\n",
    "        return other / self\n",
    "        \n",
    "    def __pow__(self, other):\n",
    "        return ufl(self.n**other,(other)*(self.n**(other-1))*self.u)\n",
    "\n",
    "    def __rpow__(self, other):\n",
    "        pass\n",
    "\n",
    "    def rounded(self):\n",
    "        return ufl(sr(self.n, sr(self.u)), sr(self.u))\n",
    "\n",
    "def compara(a,b):\n",
    "    a,b = ufl(a), ufl(b)\n",
    "    dif = abs(a.n - b.n)\n",
    "    somu = a.u + b.u\n",
    "    \n",
    "    if dif < 2*somu:\n",
    "        print('\\nComo %f < %f, os valores são iguais.'%(dif,2*somu))\n",
    "\n",
    "    elif dif > 3*somu:\n",
    "        print('\\nOs valores diferem por %s, pois %f > %f.'%(a-b,dif,3*somu))\n",
    "        \n",
    "    else:\n",
    "        print('\\nComo %f < %f < %f, não se pode afirmar nada.'%(2*somu, dif, 3*somu))\n",
    "    "
   ]
  },
  {
   "cell_type": "code",
   "execution_count": 53,
   "metadata": {},
   "outputs": [
    {
     "data": {
      "text/plain": [
       "2.32 ± 0.01"
      ]
     },
     "execution_count": 53,
     "metadata": {},
     "output_type": "execute_result"
    }
   ],
   "source": [
    "u = ufl\n",
    "\n",
    "\n",
    "ns = u((pd.Series(indice_n_60).mean()),0.01)\n",
    "\n",
    "# ns\n",
    "\n",
    "n  = pd.Series(indice_n_60).mean() +  ns\n",
    "n\n",
    "# pd.Series(indice_n_60)"
   ]
  }
 ],
 "metadata": {
  "colab": {
   "name": "fisica-exp.ipynb",
   "provenance": []
  },
  "kernelspec": {
   "display_name": "Python 3",
   "language": "python",
   "name": "python3"
  },
  "language_info": {
   "codemirror_mode": {
    "name": "ipython",
    "version": 3
   },
   "file_extension": ".py",
   "mimetype": "text/x-python",
   "name": "python",
   "nbconvert_exporter": "python",
   "pygments_lexer": "ipython3",
   "version": "3.7.3"
  }
 },
 "nbformat": 4,
 "nbformat_minor": 1
}
