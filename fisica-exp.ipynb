{
 "cells": [
  {
   "cell_type": "code",
   "execution_count": 1,
   "metadata": {
    "colab": {},
    "colab_type": "code",
    "id": "mOWTv5Aj1Cgw"
   },
   "outputs": [],
   "source": [
    "import pandas as pd\n",
    "import numpy as np\n",
    "import math\n",
    "from LabIFSC import *\n",
    "\n",
    "def media(x):\n",
    "    return sum(x) / len(x)\n",
    "\n",
    "def desvio_padrao(x, amostral=False):\n",
    "    _media = media(x)\n",
    "    tam = len(x)\n",
    "    if amostral:\n",
    "        tam = tam - 1\n",
    "    soma = 0\n",
    "    for i in x:\n",
    "        soma = soma + (i - _media) ** 2\n",
    "    return (soma / (tam))**0.5\n",
    "\n",
    "\n",
    "\n",
    "def converterGrausParaRad(numero):\n",
    "    rad = (numero/180)*math.pi\n",
    "    return rad\n",
    "    #abaixo: defini\n",
    "def coseno(rad):\n",
    "    numero = converterGrausParaRad(rad)\n",
    "    cont = 0\n",
    "    resultado = 1 # ERRO!!!\n",
    "    while(cont < 50):\n",
    "        cont += 1\n",
    "        resultado += (((-1)**cont)*(numero**(2 * cont)))/(math.factorial(2 * cont))\n",
    "\n",
    "    return round(resultado, 6) # MELHORIA\n",
    "\n",
    "def seno(numero):\n",
    "    resultado = 0\n",
    "    resultado = math.sqrt(1 - (coseno(numero))**2)\n",
    "    return resultado\n",
    "#"
   ]
  },
  {
   "cell_type": "code",
   "execution_count": null,
   "metadata": {},
   "outputs": [],
   "source": []
  },
  {
   "cell_type": "code",
   "execution_count": 2,
   "metadata": {},
   "outputs": [],
   "source": [
    "# pip install LabIFSC"
   ]
  },
  {
   "cell_type": "code",
   "execution_count": 95,
   "metadata": {
    "colab": {},
    "colab_type": "code",
    "id": "lvBblks01u0u"
   },
   "outputs": [],
   "source": [
    "mediaL1 = pd.Series([50.15,50.20,50.15,50.20]).mean()\n",
    "mediaL2 = pd.Series([50.15,50.15,50.20,50.15]).mean()\n",
    "mediaL3 = pd.Series([50.10,50.20,50.20,50.15]).mean()\n",
    "mediaL4 = pd.Series([50.20,50.25,50.15,50.20]).mean()\n",
    "mediaL5 = pd.Series([50.20,50.20,50.15,50.15]).mean()\n",
    "\n",
    "#medida_R =  pd.Series([medidaR1,medidaR2,medidaR3,medidaR4,medidaR4])\n",
    "media_medida_R = pd.Series([mediaR1,mediaR2,mediaR3,mediaR4,mediaR5]).mean() \n",
    "\n",
    "\n",
    "mediaR1 = pd.Series([120.40,120.85,120.90,120.10]).mean()\n",
    "mediaR2 = pd.Series([120.10,120.45,120.25,120.20]).mean()\n",
    "mediaR3 = pd.Series([120.15,120.15,120.20,120.15]).mean()\n",
    "mediaR4 = pd.Series([120.25,120.20,120.25,120.20]).mean()\n",
    "mediaR5 = pd.Series([120.30,120.25,120.40,120.15]).mean()\n",
    "\n",
    "media_medida_L = pd.Series([mediaL1,mediaL2,mediaL3,mediaL4,mediaL4]).mean()  \n",
    "\n",
    "\n",
    "# medida_L =  pd.Series([medidaL1,medidaL2,medidaL3,medidaL4,medidaL4])\n",
    "# media_medida_L = medida_L.mean()    \n",
    "\n",
    "\n",
    "dif_media_angulo_12 = [1.2, 2.0, 1.2, 1.5, 2.0, 1.2, 1.0, 1.5, 2.0, 1.5, 2.0, 2.0, 1.2, 1.2, 2.0, 1.5, 1.8, 1.5, 1.8, 1.5]\n",
    "dif_media_angulo_30 = [4.5, 4.0, 4.5, 4.0, 4.5, 4.5, 5.0, 4.5, 4.5, 4.0, 5.0, 4.5, 5.0, 4.8, 4.5, 5.0, 4.8, 5.0, 4.5, 4.8]\n",
    "dif_media_angulo_42 = [8.5, 7.0, 8.5, 7.0, 8.8, 7.0, 7.0, 8.0, 7.2, 7.0, 7.0, 7.0, 7.2, 8.0, 7.3, 7.0, 7.2, 7.0, 7.3, 7.0]\n",
    "dif_media_angulo_60 = [11.5, 12.0, 12.0, 12.0, 12.0, 12.0, 11.5, 12.0, 11.4, 11.5, 11.5, 12.0, 11.5, 12.0, 11.4, 12.0, 11.5, 12.0, 11.8, 11.5]\n",
    "\n",
    "\n"
   ]
  },
  {
   "cell_type": "code",
   "execution_count": 4,
   "metadata": {
    "colab": {},
    "colab_type": "code",
    "id": "oXP3fSGBaIQ2"
   },
   "outputs": [],
   "source": [
    "# medidasR = [medidaR1,medidaR2,medidaR3,medidaR4,medidaR4]\n",
    "# medidasL = [medidasL1, medidasL2, medidasL3, medidasL4, medidasL4]"
   ]
  },
  {
   "cell_type": "code",
   "execution_count": 80,
   "metadata": {
    "colab": {},
    "colab_type": "code",
    "id": "zKiRSQFxZyk_"
   },
   "outputs": [],
   "source": [
    "# from math import *\n",
    "# # from visual.graph import *\n",
    "\n",
    "# N1 = 1 # indice de refração do vácuo\n",
    "# N2 = 1.33 # indice de refração do água\n",
    "# N3 = 1.46 # \" \" quartzo fundido\n",
    "# N4 = 1.54 # \" \" cloreto de sódio\n",
    "# N5 = 1.63 # \" \" disulfeto de carbono\n",
    "# N6 = 1.77 # \" da safira\n",
    "# N7 = 1.89 # \" do vidro de altíssima dispersão\n",
    "# N8 = 2.42 #\" \" diamante\n",
    "\n",
    "# # lei de snell - N1*sin(teta.i) = N2*sin(teta.r)\n",
    "\n",
    "# angulo = 15 # incidencia inicial\n",
    "# teta1 = angulo*(pi/180) # angulo de incidencia com relação a normal\n",
    "# teta2 = asin(N1*sin(teta1)/N2) # angulo de refração no meio2\n",
    "# teta3 = asin(N2*sin(teta2)/N3)\n",
    "# teta4 = asin(N3*sin(teta3)/N4)\n",
    "# teta5 = asin(N4*sin(teta4)/N5)\n",
    "# teta6 = asin(N5*sin(teta5)/N6)\n",
    "# teta7 = asin(N6*sin(teta6)/N7)\n",
    "# teta8 = asin(N7*sin(teta7)/N8)"
   ]
  },
  {
   "cell_type": "code",
   "execution_count": 79,
   "metadata": {
    "colab": {},
    "colab_type": "code",
    "id": "OaFTI6C7MJ0Q"
   },
   "outputs": [],
   "source": [
    "# medias_R = []\n",
    "# desvios_R = []\n",
    "# erro_medio_R = []\n",
    "# op_R = []\n",
    "\n",
    "# for i in medidasR:\n",
    "#     db =  pd.Series(i)\n",
    "#     medias_R.append(db.mean())\n",
    "#     desvios_R.append(db.std())\n",
    "#     erro_medio_R.append((db.std()/(len(db)**0.5)))\n",
    "#     oc = db.std() / (len(db))**2\n",
    "#     os = 0.5\n",
    "#     op = ((oc)**2 + (os)**2)**0.5\n",
    "#     op_R.append(op)\n",
    "\n",
    "# # print(op_R)\n",
    "\n",
    "# medias_L = []\n",
    "# desvios_L = []\n",
    "# erro_medio_L = []\n",
    "# op_L = []\n",
    "\n",
    "# for i in medidasL:\n",
    "#     db =  pd.Series(i)\n",
    "#     medias_L.append(db.mean())\n",
    "#     desvios_L.append(db.std())\n",
    "#     erro_medio_L.append((db.std()/(len(db)**0.5)))\n",
    "#     oc = db.std() / (len(db))**2\n",
    "#     os = 0.5\n",
    "#     op = ((oc)**2 + (os)**2)**0.5\n",
    "#     op_L.append(op)\n",
    "# #     print(os)\n",
    "# # print(op_L)"
   ]
  },
  {
   "cell_type": "code",
   "execution_count": 11,
   "metadata": {
    "colab": {
     "base_uri": "https://localhost:8080/",
     "height": 34
    },
    "colab_type": "code",
    "executionInfo": {
     "elapsed": 708,
     "status": "ok",
     "timestamp": 1569383671586,
     "user": {
      "displayName": "Billyfranklim Pereira",
      "photoUrl": "https://lh3.googleusercontent.com/a-/AAuE7mAB2PBHDfXX9k9R9k5fRjc4j8UTXi0KHDPqcoaBAcQ=s64",
      "userId": "18281492114920847785"
     },
     "user_tz": 180
    },
    "id": "xJo_IK66aK7z",
    "outputId": "77e34c69-5c0f-4bbf-c8b3-d5a80b86ea99"
   },
   "outputs": [
    {
     "data": {
      "text/plain": [
       "[1.58, 4.595, 7.4, 11.755]"
      ]
     },
     "execution_count": 11,
     "metadata": {},
     "output_type": "execute_result"
    }
   ],
   "source": [
    "dif_media_12 =  pd.Series(dif_media_angulo_12).mean()\n",
    "dif_media_30 =  pd.Series(dif_media_angulo_30).mean()\n",
    "dif_media_42 =  pd.Series(dif_media_angulo_42).mean()\n",
    "dif_media_60 =  pd.Series(dif_media_angulo_60).mean()\n",
    "\n",
    "angulos = [dif_media_12,dif_media_30,dif_media_42,dif_media_60]\n",
    "# acrilico 1,49\n",
    "# media(media_angulo_12)\n",
    "# lei_snell\n",
    "angulos"
   ]
  },
  {
   "cell_type": "code",
   "execution_count": 77,
   "metadata": {
    "colab": {
     "base_uri": "https://localhost:8080/",
     "height": 34
    },
    "colab_type": "code",
    "executionInfo": {
     "elapsed": 825,
     "status": "ok",
     "timestamp": 1569385486751,
     "user": {
      "displayName": "Billyfranklim Pereira",
      "photoUrl": "https://lh3.googleusercontent.com/a-/AAuE7mAB2PBHDfXX9k9R9k5fRjc4j8UTXi0KHDPqcoaBAcQ=s64",
      "userId": "18281492114920847785"
     },
     "user_tz": 180
    },
    "id": "U4Rtb-qsktiO",
    "outputId": "c951c633-1824-4a58-8494-39a494b9118a"
   },
   "outputs": [
    {
     "name": "stdout",
     "output_type": "stream",
     "text": [
      "Lei de Snell 12° -> 1.1495327407913718\n",
      "Lei de Snell 30° -> 1.165465676937042\n",
      "Lei de Snell 42° -> 1.1783695582660971\n",
      "Lei de Snell 60° -> 1.1608934294815776\n"
     ]
    }
   ],
   "source": [
    "# lei_snell = np.sin(60)/np.sin(30)\n",
    "# lei_snell = seno(60)/seno(60 - dif_media_60)\n",
    "lei_snell_12 = seno(12)/seno(12 - dif_media_12)\n",
    "lei_snell_30 = seno(30)/seno(30 - dif_media_30)\n",
    "lei_snell_42 = seno(42)/seno(42 - dif_media_42)\n",
    "lei_snell_60 = seno(60)/seno(60 - dif_media_60)\n",
    "\n",
    "print(\"Lei de Snell 12° -> {}\".format(lei_snell_12))\n",
    "print(\"Lei de Snell 30° -> {}\".format(lei_snell_30))\n",
    "print(\"Lei de Snell 42° -> {}\".format(lei_snell_42))\n",
    "print(\"Lei de Snell 60° -> {}\".format(lei_snell_60))\n"
   ]
  },
  {
   "cell_type": "code",
   "execution_count": 67,
   "metadata": {},
   "outputs": [],
   "source": [
    "deslocamento_lateral_12 = media_medida_L * (seno(12 - (12 - dif_media_12) )/coseno( (12 - dif_media_12)))\n",
    "deslocamento_lateral_30 = media_medida_L * (seno(30 - (30 - dif_media_30) )/coseno( (30 - dif_media_30)))\n",
    "deslocamento_lateral_42 = media_medida_L * (seno(42 - (42 - dif_media_42) )/coseno( (42 - dif_media_42)))\n",
    "deslocamento_lateral_60 = media_medida_L * (seno(60 - (60 - dif_media_60) )/coseno( (60 - dif_media_60)))\n",
    "\n",
    "# deslocamento_lateral_12"
   ]
  },
  {
   "cell_type": "code",
   "execution_count": 68,
   "metadata": {},
   "outputs": [],
   "source": [
    "indice_n_12  = []\n",
    "for i in dif_media_angulo_12:\n",
    "    indice_n_12.append(seno(12)/seno(12 - i))\n",
    "\n",
    "indice_n_30  = []\n",
    "for i in dif_media_angulo_12:\n",
    "    indice_n_30.append(seno(30)/seno(30 - i))\n",
    "    \n",
    "indice_n_42  = []\n",
    "for i in dif_media_angulo_42:\n",
    "    indice_n_42.append(seno(42)/seno(42 - i))\n",
    "    \n",
    "indice_n_60  = []\n",
    "for i in dif_media_angulo_60:\n",
    "    indice_n_60 .append(seno(60)/seno(60 - i))\n",
    "\n",
    "\n",
    "\n",
    "# pd.Series(indice_n_60)"
   ]
  },
  {
   "cell_type": "code",
   "execution_count": 15,
   "metadata": {},
   "outputs": [],
   "source": [
    "#!/usr/bin/python3\n",
    "\n",
    "from math import floor, log10\n",
    "import re\n",
    "\n",
    "def siground(n, er=0):\n",
    "\tif not n: return 0.0\n",
    "\tif not er: er = n\n",
    "\treturn round(n,-floor(log10(er)))\n",
    "\n",
    "sr = siground\n",
    "    \n",
    "class ufl:\n",
    "\n",
    "    def __init__(self, n, u=0):\n",
    "        if isinstance(n, str):\n",
    "            self.n, self.u = (float(i.replace(',','.')) for i in re.findall(r'[\\d.,]+', n))\n",
    "        \n",
    "        elif not isinstance(n, ufl):\n",
    "            self.n, self.u = n, u\n",
    "            \n",
    "        else: self.n, self.u = n.n, n.u\n",
    "\n",
    "    def __repr__(self):\n",
    "        return '{} ± {:g}'.format(sr(self.n, sr(self.u)), sr(self.u))\n",
    "\n",
    "    def __add__(self, other):\n",
    "        other = ufl(other)\n",
    "        return(ufl(self.n + other.n, self.u + other.u))\n",
    "\n",
    "    __radd__ = __add__\n",
    "                \n",
    "    def __sub__(self, other):\n",
    "        other = ufl(other)\n",
    "        return ufl(self.n - other.n, self.u + other.u)\n",
    "\n",
    "    def __rsub__(self, other):\n",
    "        other = ufl(other)\n",
    "        return other-self\n",
    "\n",
    "    def __neg__(self):\n",
    "        return ufl(-self.n, self.u)\n",
    "        \n",
    "    def __mul__(self, other):\n",
    "        other = ufl(other)\n",
    "        return ufl(self.n*other.n,(self.u*other.n)+(self.n*other.u))\n",
    "\n",
    "    __rmul__ = __mul__\n",
    "                \n",
    "    def __truediv__(self, other):\n",
    "        other = ufl(other)\n",
    "        return ufl((self.n/other.n),((self.u*other.n)+(self.n*other.u))/(other.n**2))\n",
    "\n",
    "    def __rtruediv__(self, other):\n",
    "        other = ufl(other)\n",
    "        return other / self\n",
    "        \n",
    "    def __pow__(self, other):\n",
    "        return ufl(self.n**other,(other)*(self.n**(other-1))*self.u)\n",
    "\n",
    "    def __rpow__(self, other):\n",
    "        pass\n",
    "\n",
    "    def rounded(self):\n",
    "        return ufl(sr(self.n, sr(self.u)), sr(self.u))\n",
    "\n",
    "def compara(a,b):\n",
    "    a,b = ufl(a), ufl(b)\n",
    "    dif = abs(a.n - b.n)\n",
    "    somu = a.u + b.u\n",
    "    \n",
    "    if dif < 2*somu:\n",
    "        print('\\nComo %f < %f, os valores são iguais.'%(dif,2*somu))\n",
    "\n",
    "    elif dif > 3*somu:\n",
    "        print('\\nOs valores diferem por %s, pois %f > %f.'%(a-b,dif,3*somu))\n",
    "        \n",
    "    else:\n",
    "        print('\\nComo %f < %f < %f, não se pode afirmar nada.'%(2*somu, dif, 3*somu))\n",
    "    "
   ]
  },
  {
   "cell_type": "code",
   "execution_count": 16,
   "metadata": {},
   "outputs": [
    {
     "data": {
      "text/plain": [
       "2.32 ± 0.01"
      ]
     },
     "execution_count": 16,
     "metadata": {},
     "output_type": "execute_result"
    }
   ],
   "source": [
    "u = ufl\n",
    "\n",
    "\n",
    "ns = u((pd.Series(indice_n_60).mean()),0.01)\n",
    "\n",
    "# ns\n",
    "\n",
    "n  = pd.Series(indice_n_60).mean() +  ns\n",
    "n\n",
    "# pd.Series(indice_n_60)"
   ]
  },
  {
   "cell_type": "code",
   "execution_count": 216,
   "metadata": {},
   "outputs": [],
   "source": [
    "indice_refracao_12 = seno(12)/seno(8)\n",
    "indice_refracao_30 = seno(30)/seno(20)\n",
    "indice_refracao_42 = seno(42)/seno(26.3)\n",
    "indice_refracao_60 = seno(60)/seno(35.1)\n",
    "\n",
    "todos = [indice_refracao_12,indice_refracao_30,indice_refracao_42,indice_refracao_60]\n",
    "# todos_media = todos\n",
    "# todos_media\n",
    "# 42/4\n"
   ]
  },
  {
   "cell_type": "code",
   "execution_count": 78,
   "metadata": {},
   "outputs": [
    {
     "name": "stdout",
     "output_type": "stream",
     "text": [
      "N (12°) -> n = 1.1507 ± 0.0376\n",
      "N (30°) -> n = 1.0507 ± 0.0117\n",
      "N (42°) -> n = 1.1787 ± 0.0183\n",
      "N (60°) -> n = 1.1609 ± 0.0047\n",
      "\n",
      "Raio -> R = 50.1750 ± 0.1553\n",
      "Largura -> L = 120.2850 ± 0.0153\n"
     ]
    }
   ],
   "source": [
    "# Valor da grandeza = média das n medidas ± desvio padrão da média\n",
    "\n",
    "\n",
    "print('N (12°) -> n = {0:.4f} ± {1:.4f}'.format(pd.Series(indice_n_12).mean(),pd.Series(indice_n_12).std()))\n",
    "print('N (30°) -> n = {0:.4f} ± {1:.4f}'.format(pd.Series(indice_n_30).mean(),pd.Series(indice_n_30).std()))\n",
    "print('N (42°) -> n = {0:.4f} ± {1:.4f}'.format(pd.Series(indice_n_42).mean(),pd.Series(indice_n_42).std()))\n",
    "print('N (60°) -> n = {0:.4f} ± {1:.4f}\\n'.format(pd.Series(indice_n_60).mean(),pd.Series(indice_n_60).std()))\n",
    "\n",
    "print('Raio -> R = {0:.4f} ± {1:.4f}'.format(pd.Series(media_medida_R).mean(),pd.Series([mediaR1,mediaR2,mediaR3,mediaR4,mediaR5]).std()))\n",
    "print('Largura -> L = {0:.4f} ± {1:.4f}'.format(pd.Series(media_medida_L).mean(),pd.Series([mediaL1,mediaL2,mediaL3,mediaL4,mediaL5]).std()))"
   ]
  },
  {
   "cell_type": "code",
   "execution_count": 75,
   "metadata": {},
   "outputs": [],
   "source": [
    "# pd.Series(media_medida_R).std()"
   ]
  },
  {
   "cell_type": "code",
   "execution_count": 72,
   "metadata": {},
   "outputs": [
    {
     "name": "stdout",
     "output_type": "stream",
     "text": [
      "Erro Experimental (12°) -> 0.2277 % \n",
      "Erro Experimental (30°) -> 0.2948 %\n",
      "Erro Experimental (42°) -> 0.2089 %\n",
      "Erro Experimental (60°) -> 0.2209 %\n",
      "\n",
      "Erro Experimental -> R = 0.5819 %\n",
      "Erro Experimental -> L = 1.4057 %\n"
     ]
    }
   ],
   "source": [
    "# Erro Experimental\n",
    "\n",
    "print('Erro Experimental (12°) -> {0:.4f} % '.format( abs(( pd.Series(indice_n_12).mean() - 1.49)/1.49)))\n",
    "print('Erro Experimental (30°) -> {0:.4f} %'.format(abs(( pd.Series(indice_n_30).mean() - 1.49)/1.49)))\n",
    "print('Erro Experimental (42°) -> {0:.4f} %'.format(abs(( pd.Series(indice_n_42).mean() - 1.49)/1.49)))\n",
    "print('Erro Experimental (60°) -> {0:.4f} %\\n'.format(abs(( pd.Series(indice_n_60).mean() - 1.49)/1.49)))\n",
    "\n",
    "print('Erro Experimental -> R = {0:.4f} %'.format(abs(( pd.Series(media_medida_R).mean() - 120)/120)))\n",
    "print('Erro Experimental -> L = {0:.4f} %'.format(abs(( pd.Series(media_medida_L).mean() - 50)/50)))"
   ]
  },
  {
   "cell_type": "code",
   "execution_count": 82,
   "metadata": {},
   "outputs": [
    {
     "data": {
      "text/plain": [
       "1.3830978792471968"
      ]
     },
     "execution_count": 82,
     "metadata": {},
     "output_type": "execute_result"
    }
   ],
   "source": [
    "d = pd.Series(media_medida_R).mean()*seno(pd.Series(dif_media_angulo_12).mean())\n",
    "d"
   ]
  },
  {
   "cell_type": "code",
   "execution_count": 137,
   "metadata": {},
   "outputs": [],
   "source": [
    "def incerteza_padrão(i):\n",
    "    db =  pd.Series(i)\n",
    "    oc = db.std() / (len(db))**0.5\n",
    "    os = 0.5\n",
    "    op = ((oc)**2 + (os)**2)**0.5\n",
    "#     print(oc)\n",
    "#     print(os)\n",
    "#     print(op)\n",
    "    return op"
   ]
  },
  {
   "cell_type": "code",
   "execution_count": 125,
   "metadata": {},
   "outputs": [
    {
     "name": "stdout",
     "output_type": "stream",
     "text": [
      "0.008477912478907045\n",
      "0.2\n",
      "0.20017960685344552\n"
     ]
    }
   ],
   "source": [
    "incerteza_padrão([mediaL1,mediaL2,mediaL3,mediaL4,mediaL4])"
   ]
  },
  {
   "cell_type": "code",
   "execution_count": 220,
   "metadata": {},
   "outputs": [
    {
     "name": "stdout",
     "output_type": "stream",
     "text": [
      "Valor Medio (X) 12°: 1.58\n",
      "Valor Medio (X) 30°: 4.595\n",
      "Valor Medio (X) 42°: 7.4\n",
      "Valor Medio (X) 60°: 11.755\n"
     ]
    }
   ],
   "source": [
    "#valores medios\n",
    "valor_medio_12 = pd.Series(dif_media_angulo_12).mean()\n",
    "valor_medio_30 = pd.Series(dif_media_angulo_30).mean()\n",
    "valor_medio_42 = pd.Series(dif_media_angulo_42).mean()\n",
    "valor_medio_60 = pd.Series(dif_media_angulo_60).mean()\n",
    "\n",
    "print(\"Valor Medio (X) 12°: {}\".format(valor_medio_12))\n",
    "print(\"Valor Medio (X) 30°: {}\".format(valor_medio_30))\n",
    "print(\"Valor Medio (X) 42°: {}\".format(valor_medio_42))\n",
    "print(\"Valor Medio (X) 60°: {}\".format(valor_medio_60))"
   ]
  },
  {
   "cell_type": "code",
   "execution_count": 221,
   "metadata": {},
   "outputs": [
    {
     "name": "stdout",
     "output_type": "stream",
     "text": [
      "Valor desvio (X) 12°: 0.3442765106560041\n",
      "Valor desvio (X) 30°: 0.33162280411715706\n",
      "Valor desvio (X) 42°: 0.6\n",
      "Valor desvio (X) 60°: 0.2625281939746261\n"
     ]
    }
   ],
   "source": [
    "# desvio padrão\n",
    "\n",
    "valor_desvio_12 = pd.Series(dif_media_angulo_12).std()\n",
    "valor_desvio_30 = pd.Series(dif_media_angulo_30).std()\n",
    "valor_desvio_42 = pd.Series(dif_media_angulo_42).std()\n",
    "valor_desvio_60 = pd.Series(dif_media_angulo_60).std()\n",
    "\n",
    "print(\"Valor desvio (X) 12°: {}\".format(valor_desvio_12))\n",
    "print(\"Valor desvio (X) 30°: {}\".format(valor_desvio_30))\n",
    "print(\"Valor desvio (X) 42°: {}\".format(valor_desvio_42))\n",
    "print(\"Valor desvio (X) 60°: {}\".format(valor_desvio_60))"
   ]
  },
  {
   "cell_type": "code",
   "execution_count": 222,
   "metadata": {},
   "outputs": [
    {
     "name": "stdout",
     "output_type": "stream",
     "text": [
      "Valor erro padrão (X) 12°: 0.0008606912766400103\n",
      "Valor erro padrão (X) 30°: 0.0008290570102928926\n",
      "Valor erro padrão (X) 42°: 0.0015\n",
      "Valor erro padrão (X) 60°: 0.0006563204849365654\n"
     ]
    }
   ],
   "source": [
    "# erro padrão\n",
    "valor_erro_padrao_12 = (valor_desvio_12) / (len(dif_media_angulo_12))**2 \n",
    "valor_erro_padrao_30 = (valor_desvio_30) / (len(dif_media_angulo_30))**2 \n",
    "valor_erro_padrao_42 = (valor_desvio_42) / (len(dif_media_angulo_42))**2 \n",
    "valor_erro_padrao_60 = (valor_desvio_60) / (len(dif_media_angulo_60))**2 \n",
    "\n",
    "print(\"Valor erro padrão (X) 12°: {}\".format(valor_erro_padrao_12))\n",
    "print(\"Valor erro padrão (X) 30°: {}\".format(valor_erro_padrao_30))\n",
    "print(\"Valor erro padrão (X) 42°: {}\".format(valor_erro_padrao_42))\n",
    "print(\"Valor erro padrão (X) 60°: {}\".format(valor_erro_padrao_60))"
   ]
  },
  {
   "cell_type": "code",
   "execution_count": 92,
   "metadata": {},
   "outputs": [],
   "source": [
    "# Indice de refração\n"
   ]
  },
  {
   "cell_type": "code",
   "execution_count": 138,
   "metadata": {},
   "outputs": [
    {
     "name": "stdout",
     "output_type": "stream",
     "text": [
      "Raio -> R = 120.2950 ± 0.5047988461\n"
     ]
    }
   ],
   "source": [
    "# Valor da grandeza = média das n medidas ± desvio padrão da média\n",
    "# R = R ± sR\n",
    "\n",
    "\n",
    "print('Raio -> R = {0:.4f} ± {1:.10f}'.format(pd.Series(media_medida_R).mean(),incerteza_padrão([mediaR1,mediaR2,mediaR3,mediaR4,mediaR5])))\n"
   ]
  },
  {
   "cell_type": "code",
   "execution_count": 139,
   "metadata": {},
   "outputs": [
    {
     "name": "stdout",
     "output_type": "stream",
     "text": [
      "Largura -> L = 50.1800 ± 0.5000468728\n"
     ]
    }
   ],
   "source": [
    "# Valor da grandeza = média das n medidas ± desvio padrão da média\n",
    "# L = L ± sL\n",
    "print('Largura -> L = {0:.4f} ± {1:.10f}'.format(pd.Series(media_medida_L).mean(),incerteza_padrão([mediaL1,mediaL2,mediaL3,mediaL4,mediaL5])))"
   ]
  },
  {
   "cell_type": "code",
   "execution_count": 218,
   "metadata": {},
   "outputs": [
    {
     "name": "stdout",
     "output_type": "stream",
     "text": [
      "N (12°) -> n = 1.493030568260276 ± 0.5001196206628096\n",
      "N (30°) -> n = 1.493030568260276 ± 0.5001196206628096\n",
      "N (42°) -> n = 1.493030568260276 ± 0.5001196206628096\n",
      "N(60°) -> n = 1.493030568260276 ± 0.5001196206628096\n",
      "\n"
     ]
    }
   ],
   "source": [
    "# Valor da grandeza = média das n medidas ± desvio padrão da média\n",
    "# N = N ± sN\n",
    "# incerteza_padrão(todos_media)\n",
    "print('N (12°) -> n = {} ± {}'.format(pd.Series(todos).mean(),incerteza_padrão(todos)))\n",
    "print('N (30°) -> n = {} ± {}'.format(pd.Series(todos).mean(),incerteza_padrão(todos)))\n",
    "print('N (42°) -> n = {} ± {}'.format(pd.Series(todos).mean(),incerteza_padrão(todos)))\n",
    "print('N (60°) -> n = {} ± {}\\n'.format(pd.Series(todos).mean(),incerteza_padrão(todos)))"
   ]
  },
  {
   "cell_type": "code",
   "execution_count": 99,
   "metadata": {},
   "outputs": [
    {
     "name": "stdout",
     "output_type": "stream",
     "text": [
      "Erro Experimental (12°) -> 0.2277 % \n",
      "Erro Experimental (30°) -> 0.2948 %\n",
      "Erro Experimental (42°) -> 0.2089 %\n",
      "Erro Experimental (60°) -> 0.2209 %\n",
      "\n",
      "Erro Experimental -> R = 0.0025 %\n",
      "Erro Experimental -> L = 0.0036 %\n"
     ]
    }
   ],
   "source": [
    "# Erro Experimental\n",
    "\n",
    "print('Erro Experimental (12°) -> {0:.4f} % '.format( abs(( pd.Series(indice_n_12).mean() - 1.49)/1.49)))\n",
    "print('Erro Experimental (30°) -> {0:.4f} %'.format(abs(( pd.Series(indice_n_30).mean() - 1.49)/1.49)))\n",
    "print('Erro Experimental (42°) -> {0:.4f} %'.format(abs(( pd.Series(indice_n_42).mean() - 1.49)/1.49)))\n",
    "print('Erro Experimental (60°) -> {0:.4f} %\\n'.format(abs(( pd.Series(indice_n_60).mean() - 1.49)/1.49)))\n",
    "\n",
    "print('Erro Experimental -> R = {0:.4f} %'.format(abs(( pd.Series(media_medida_R).mean() - 120)/120)))\n",
    "print('Erro Experimental -> L = {0:.4f} %'.format(abs(( pd.Series(media_medida_L).mean() - 50)/50)))"
   ]
  },
  {
   "cell_type": "code",
   "execution_count": 142,
   "metadata": {},
   "outputs": [
    {
     "data": {
      "text/plain": [
       "3.3159892253919594"
      ]
     },
     "execution_count": 142,
     "metadata": {},
     "output_type": "execute_result"
    }
   ],
   "source": [
    "mediaR = pd.Series(media_medida_R).mean()\n",
    "media_angulo = pd.Series(dif_media_angulo_12).mean()\n",
    "\n"
   ]
  }
 ],
 "metadata": {
  "colab": {
   "name": "fisica-exp.ipynb",
   "provenance": []
  },
  "kernelspec": {
   "display_name": "Python 3",
   "language": "python",
   "name": "python3"
  },
  "language_info": {
   "codemirror_mode": {
    "name": "ipython",
    "version": 3
   },
   "file_extension": ".py",
   "mimetype": "text/x-python",
   "name": "python",
   "nbconvert_exporter": "python",
   "pygments_lexer": "ipython3",
   "version": "3.7.3"
  }
 },
 "nbformat": 4,
 "nbformat_minor": 1
}
